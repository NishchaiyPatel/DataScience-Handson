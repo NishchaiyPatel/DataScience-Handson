{
    "cells": [
        {
            "cell_type": "markdown",
            "metadata": {
                "collapsed": true
            },
            "source": "# New Cafes in Ahmedabad\n\n## Introduction / business problem\n\nIn a city of Ahmedabad, if someone is looking to open a caf\u00e9 restaurant, **the question is**, where would you recommend that they open it? **The background of the problem** is that in order for a caf\u00e9 to be profitable, there must be enough customers, and in order to have enough customers, it is not worth setting up a caf\u00e9 in the immediate promixity of existing ones.\n\nLet's also make sure that **audience is explicitly defined** to be the local restaurant entrepreuners in Ahmedabad and **they should care about this problem** because the location of the new caf\u00e9 has a significant impact on the expected returns.\n\n## Data\n\n**A description of the data**: the data used to solve this problem is geolocation data collected from [FourSquare](https://foursquare.com/). Adequate explanation and discussion, with examples, of the data is the following. Data is a single dataframe, containing at least a location of the caf\u00e9. **Explanation** of the location data is a standard tuple `(lat, lng)`, where `lat` stands for latitude and `lng` for longitude. Some other metadata like name, postal code and so on is also collected, but let us **discuss** that they are not absolutely necessary for the analysis. **Example** of the data:\n\n<img src=\"Ahm.jpg\"></img>\n\n**Data will be used** in the following way: by knowing the locations of already existing cafes, it's possible to apply unsupervised learning technique like kernel density estimation (KDE) to determine the area of influence of the existing cafes, and start up new caf\u00e9 which is not in the area of influence.\n\n"
        },
        {
            "cell_type": "code",
            "execution_count": null,
            "metadata": {},
            "outputs": [],
            "source": ""
        }
    ],
    "metadata": {
        "kernelspec": {
            "display_name": "Python 3.6",
            "language": "python",
            "name": "python3"
        },
        "language_info": {
            "codemirror_mode": {
                "name": "ipython",
                "version": 3
            },
            "file_extension": ".py",
            "mimetype": "text/x-python",
            "name": "python",
            "nbconvert_exporter": "python",
            "pygments_lexer": "ipython3",
            "version": "3.6.9"
        }
    },
    "nbformat": 4,
    "nbformat_minor": 1
}