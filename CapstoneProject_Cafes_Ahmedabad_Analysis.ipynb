{
    "cells": [
        {
            "metadata": {},
            "cell_type": "code",
            "source": "!conda install -c conda-forge folium=0.5.0 --yes",
            "execution_count": 1,
            "outputs": [
                {
                    "output_type": "stream",
                    "text": "Solving environment: done\n\n# All requested packages already installed.\n\n",
                    "name": "stdout"
                }
            ]
        },
        {
            "metadata": {},
            "cell_type": "code",
            "source": "import pandas as pd\nimport folium",
            "execution_count": 2,
            "outputs": []
        },
        {
            "metadata": {},
            "cell_type": "code",
            "source": "import requests\n\nrequest_parameters = {\n    \"client_id\": 'LXAXANK2ZYUXHL2BSKZU3S0ABFHCUHS1LBLHH5SJDO3XZWGA',\n    \"client_secret\": 'FJ3M4XBQFZOULXBRICY0ZZX02EZZFJFADCN1JCI2HZH12ZPC',\n    \"v\": '20180323',\n    \"section\": \"coffee\",\n    \"near\": \"Ahmedabad\",\n    \"radius\": 1000,\n    \"limit\": 50}\n\ndata = requests.get(\"https://api.foursquare.com/v2/venues/explore\", params=request_parameters)",
            "execution_count": 17,
            "outputs": []
        },
        {
            "metadata": {},
            "cell_type": "markdown",
            "source": "Parsing response to JSON. We get to following keys in our dictionary:"
        },
        {
            "metadata": {},
            "cell_type": "code",
            "source": "d = data.json()[\"response\"]\nd.keys()",
            "execution_count": 18,
            "outputs": [
                {
                    "output_type": "execute_result",
                    "execution_count": 18,
                    "data": {
                        "text/plain": "dict_keys(['suggestedFilters', 'geocode', 'headerLocation', 'headerFullLocation', 'headerLocationGranularity', 'query', 'totalResults', 'suggestedBounds', 'groups'])"
                    },
                    "metadata": {}
                }
            ]
        },
        {
            "metadata": {},
            "cell_type": "markdown",
            "source": "Most of the items on dictionary are giving some general information like the name of the city, it's geo code and so on. `groups` contains the actual search result."
        },
        {
            "metadata": {},
            "cell_type": "code",
            "source": "d[\"headerLocationGranularity\"], d[\"headerLocation\"], d[\"headerFullLocation\"]",
            "execution_count": 19,
            "outputs": [
                {
                    "output_type": "execute_result",
                    "execution_count": 19,
                    "data": {
                        "text/plain": "('city', 'Ahmedabad', 'Ahmedabad')"
                    },
                    "metadata": {}
                }
            ]
        },
        {
            "metadata": {},
            "cell_type": "code",
            "source": "d[\"suggestedBounds\"] \nd[\"totalResults\"]",
            "execution_count": 22,
            "outputs": [
                {
                    "output_type": "execute_result",
                    "execution_count": 22,
                    "data": {
                        "text/plain": "18"
                    },
                    "metadata": {}
                }
            ]
        },
        {
            "metadata": {},
            "cell_type": "code",
            "source": "d[\"geocode\"]",
            "execution_count": 23,
            "outputs": [
                {
                    "output_type": "execute_result",
                    "execution_count": 23,
                    "data": {
                        "text/plain": "{'what': '',\n 'where': 'ahmedabad',\n 'center': {'lat': 23.02579, 'lng': 72.58727},\n 'displayString': 'Ahmedabad, Gujarat, India',\n 'cc': 'IN',\n 'geometry': {'bounds': {'ne': {'lat': 23.167063007051212,\n    'lng': 72.71177811117003},\n   'sw': {'lat': 22.934192744971654, 'lng': 72.4286040158387}}},\n 'slug': 'ahmad\u0101b\u0101d',\n 'longId': '72057594039207169'}"
                    },
                    "metadata": {}
                }
            ]
        },
        {
            "metadata": {},
            "cell_type": "markdown",
            "source": "In groups we again have several different items, where type and name are irrelevant for given task. The full path to items is `data.json()[\"response\"][\"groups\"][0][\"items\"]`.\n\nLet's print couple of first items to get again better idea of the structure of the data:"
        },
        {
            "metadata": {},
            "cell_type": "code",
            "source": "d[\"groups\"][0].keys()",
            "execution_count": 24,
            "outputs": [
                {
                    "output_type": "execute_result",
                    "execution_count": 24,
                    "data": {
                        "text/plain": "dict_keys(['type', 'name', 'items'])"
                    },
                    "metadata": {}
                }
            ]
        },
        {
            "metadata": {},
            "cell_type": "code",
            "source": "d[\"groups\"][0][\"type\"], d[\"groups\"][0][\"name\"]",
            "execution_count": 25,
            "outputs": [
                {
                    "output_type": "execute_result",
                    "execution_count": 25,
                    "data": {
                        "text/plain": "('Recommended Places', 'recommended')"
                    },
                    "metadata": {}
                }
            ]
        },
        {
            "metadata": {},
            "cell_type": "code",
            "source": "items = d[\"groups\"][0][\"items\"]\nprint(\"number of items: %i\" % len(items))\nitems[0]",
            "execution_count": 26,
            "outputs": [
                {
                    "output_type": "stream",
                    "text": "number of items: 18\n",
                    "name": "stdout"
                },
                {
                    "output_type": "execute_result",
                    "execution_count": 26,
                    "data": {
                        "text/plain": "{'reasons': {'count': 0,\n  'items': [{'summary': 'This spot is popular',\n    'type': 'general',\n    'reasonName': 'globalInteractionReason'}]},\n 'venue': {'id': '4b542b46f964a520b3b327e3',\n  'name': 'Lucky Tea',\n  'contact': {},\n  'location': {'address': 'Lal Darwaja',\n   'lat': 23.02782947436309,\n   'lng': 72.5813939352504,\n   'labeledLatLngs': [{'label': 'display',\n     'lat': 23.02782947436309,\n     'lng': 72.5813939352504}],\n   'cc': 'IN',\n   'city': 'Ahmedabad',\n   'state': 'Gujar\u0101t',\n   'country': 'India',\n   'formattedAddress': ['Lal Darwaja', 'Ahmedabad', 'Gujar\u0101t', 'India']},\n  'categories': [{'id': '4bf58dd8d48988d1dc931735',\n    'name': 'Tea Room',\n    'pluralName': 'Tea Rooms',\n    'shortName': 'Tea Room',\n    'icon': {'prefix': 'https://ss3.4sqi.net/img/categories_v2/food/tearoom_',\n     'suffix': '.png'},\n    'primary': True}],\n  'verified': False,\n  'stats': {'tipCount': 0,\n   'usersCount': 0,\n   'checkinsCount': 0,\n   'visitsCount': 0},\n  'beenHere': {'count': 0,\n   'lastCheckinExpiredAt': 0,\n   'marked': False,\n   'unconfirmedCount': 0},\n  'photos': {'count': 0, 'groups': []},\n  'hereNow': {'count': 0, 'summary': 'Nobody here', 'groups': []}},\n 'referralId': 'e-5-4b542b46f964a520b3b327e3-0'}"
                    },
                    "metadata": {}
                }
            ]
        },
        {
            "metadata": {},
            "cell_type": "code",
            "source": "items[1]",
            "execution_count": 27,
            "outputs": [
                {
                    "output_type": "execute_result",
                    "execution_count": 27,
                    "data": {
                        "text/plain": "{'reasons': {'count': 0,\n  'items': [{'summary': 'This spot is popular',\n    'type': 'general',\n    'reasonName': 'globalInteractionReason'}]},\n 'venue': {'id': '4bb964b053649c745b0448fb',\n  'name': 'House of MG',\n  'contact': {},\n  'location': {'address': 'Lal Darwaja',\n   'crossStreet': 'opposite Sidi Saiyad',\n   'lat': 23.02718604857762,\n   'lng': 72.58162130548759,\n   'labeledLatLngs': [{'label': 'display',\n     'lat': 23.02718604857762,\n     'lng': 72.58162130548759}],\n   'postalCode': '380001',\n   'cc': 'IN',\n   'city': 'Ahmedabad',\n   'state': 'Gujar\u0101t',\n   'country': 'India',\n   'formattedAddress': ['Lal Darwaja (opposite Sidi Saiyad)',\n    'Ahmedabad 380001',\n    'Gujar\u0101t',\n    'India']},\n  'categories': [{'id': '4bf58dd8d48988d1fa931735',\n    'name': 'Hotel',\n    'pluralName': 'Hotels',\n    'shortName': 'Hotel',\n    'icon': {'prefix': 'https://ss3.4sqi.net/img/categories_v2/travel/hotel_',\n     'suffix': '.png'},\n    'primary': True}],\n  'verified': True,\n  'stats': {'tipCount': 0,\n   'usersCount': 0,\n   'checkinsCount': 0,\n   'visitsCount': 0},\n  'beenHere': {'count': 0,\n   'lastCheckinExpiredAt': 0,\n   'marked': False,\n   'unconfirmedCount': 0},\n  'photos': {'count': 0, 'groups': []},\n  'venuePage': {'id': '60904453'},\n  'hereNow': {'count': 0, 'summary': 'Nobody here', 'groups': []}},\n 'referralId': 'e-5-4bb964b053649c745b0448fb-1'}"
                    },
                    "metadata": {}
                }
            ]
        },
        {
            "metadata": {},
            "cell_type": "markdown",
            "source": "Based on this, a simple for loop over the items is collecting some relevant data from the array, and after that DataFrame is created based on this parsed data."
        },
        {
            "metadata": {},
            "cell_type": "code",
            "source": "df_raw = []\nfor item in items:\n    venue = item[\"venue\"]\n    categories, uid, name, location = venue[\"categories\"], venue[\"id\"], venue[\"name\"], venue[\"location\"]\n    assert len(categories) == 1\n    shortname = categories[0][\"shortName\"]\n   # address = location[\"address\"]\n    if not \"postalCode\" in location:\n        continue\n    postalcode = location[\"postalCode\"]\n    lat = location[\"lat\"]\n    lng = location[\"lng\"]\n    datarow = (uid, name, shortname, address, postalcode, lat, lng)\n    df_raw.append(datarow)\ndf = pd.DataFrame(df_raw, columns=[\"uid\", \"name\", \"shortname\", \"address\", \"postalcode\", \"lat\", \"lng\"])\nprint(\"found %i cafes\" % len(df))\ndf.head()",
            "execution_count": 32,
            "outputs": [
                {
                    "output_type": "stream",
                    "text": "found 4 cafes\n",
                    "name": "stdout"
                },
                {
                    "output_type": "execute_result",
                    "execution_count": 32,
                    "data": {
                        "text/plain": "                        uid              name shortname      address  \\\n0  4bb964b053649c745b0448fb       House of MG     Hotel  Lal Darwaja   \n1  4ce92a7bd99f721e35c1b473      Cafe Natrani      Caf\u00e9  Lal Darwaja   \n2  59c8ec0f018cbb55bff55634         Chai Gate  Tea Room  Lal Darwaja   \n3  4f5ca1ebe4b0090c0a9f4a2a  Cafe Court @ SCG      Caf\u00e9  Lal Darwaja   \n\n  postalcode        lat        lng  \n0     380001  23.027186  72.581621  \n1     380013  23.047775  72.572577  \n2     380007  23.012164  72.569281  \n3     380014  23.040948  72.564642  ",
                        "text/html": "<div>\n<style scoped>\n    .dataframe tbody tr th:only-of-type {\n        vertical-align: middle;\n    }\n\n    .dataframe tbody tr th {\n        vertical-align: top;\n    }\n\n    .dataframe thead th {\n        text-align: right;\n    }\n</style>\n<table border=\"1\" class=\"dataframe\">\n  <thead>\n    <tr style=\"text-align: right;\">\n      <th></th>\n      <th>uid</th>\n      <th>name</th>\n      <th>shortname</th>\n      <th>address</th>\n      <th>postalcode</th>\n      <th>lat</th>\n      <th>lng</th>\n    </tr>\n  </thead>\n  <tbody>\n    <tr>\n      <th>0</th>\n      <td>4bb964b053649c745b0448fb</td>\n      <td>House of MG</td>\n      <td>Hotel</td>\n      <td>Lal Darwaja</td>\n      <td>380001</td>\n      <td>23.027186</td>\n      <td>72.581621</td>\n    </tr>\n    <tr>\n      <th>1</th>\n      <td>4ce92a7bd99f721e35c1b473</td>\n      <td>Cafe Natrani</td>\n      <td>Caf\u00e9</td>\n      <td>Lal Darwaja</td>\n      <td>380013</td>\n      <td>23.047775</td>\n      <td>72.572577</td>\n    </tr>\n    <tr>\n      <th>2</th>\n      <td>59c8ec0f018cbb55bff55634</td>\n      <td>Chai Gate</td>\n      <td>Tea Room</td>\n      <td>Lal Darwaja</td>\n      <td>380007</td>\n      <td>23.012164</td>\n      <td>72.569281</td>\n    </tr>\n    <tr>\n      <th>3</th>\n      <td>4f5ca1ebe4b0090c0a9f4a2a</td>\n      <td>Cafe Court @ SCG</td>\n      <td>Caf\u00e9</td>\n      <td>Lal Darwaja</td>\n      <td>380014</td>\n      <td>23.040948</td>\n      <td>72.564642</td>\n    </tr>\n  </tbody>\n</table>\n</div>"
                    },
                    "metadata": {}
                }
            ]
        },
        {
            "metadata": {},
            "cell_type": "markdown",
            "source": "Some density based estimator is giving a good tip where to start a new coffee business. There's a `HeatMap` plugin ready in Folium, let's use that, and visualize all the existing Cafes to same map:"
        },
        {
            "metadata": {},
            "cell_type": "code",
            "source": "ahmedabad_center = d[\"geocode\"][\"center\"]\nahmedabad_center",
            "execution_count": 33,
            "outputs": [
                {
                    "output_type": "execute_result",
                    "execution_count": 33,
                    "data": {
                        "text/plain": "{'lat': 23.02579, 'lng': 72.58727}"
                    },
                    "metadata": {}
                }
            ]
        },
        {
            "metadata": {
                "scrolled": true
            },
            "cell_type": "code",
            "source": "from folium import plugins\n\n# create map of Helsinki using latitude and longitude values\nmap_ahmedabad = folium.Map(location=[ahmedabad_center[\"lat\"], ahmedabad_center[\"lng\"]], zoom_start=14)\n\ndef add_markers(df):\n    for (j, row) in df.iterrows():\n        label = folium.Popup(row[\"name\"], parse_html=True)\n        folium.CircleMarker(\n            [row[\"lat\"], row[\"lng\"]],\n            radius=5,\n            popup=label,\n            color='blue',\n            fill=True,\n            fill_color='#3186cc',\n            fill_opacity=0.7,\n            parse_html=False).add_to(map_ahmedabad)\n\nadd_markers(df)\nhm_data = df[[\"lat\", \"lng\"]].as_matrix().tolist()\nmap_ahmedabad.add_child(plugins.HeatMap(hm_data))\n\nmap_ahmedabad",
            "execution_count": 36,
            "outputs": [
                {
                    "output_type": "stream",
                    "text": "/opt/conda/envs/Python36/lib/python3.6/site-packages/ipykernel/__main__.py:20: FutureWarning: Method .as_matrix will be removed in a future version. Use .values instead.\n",
                    "name": "stderr"
                },
                {
                    "output_type": "execute_result",
                    "execution_count": 36,
                    "data": {
                        "text/plain": "<folium.folium.Map at 0x7fef7f832cc0>",
                        "text/html": "<div style=\"width:100%;\"><div style=\"position:relative;width:100%;height:0;padding-bottom:60%;\"><iframe src=\"about:blank\" style=\"position:absolute;width:100%;height:100%;left:0;top:0;border:none !important;\" data-html=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 onload=\"this.contentDocument.open();this.contentDocument.write(atob(this.getAttribute('data-html')));this.contentDocument.close();\" allowfullscreen webkitallowfullscreen mozallowfullscreen></iframe></div></div>"
                    },
                    "metadata": {}
                }
            ]
        },
        {
            "metadata": {},
            "cell_type": "markdown",
            "source": "## Results\n\nBased on these results, one possibly good location for new Cafe would be near Gandhi Road"
        },
        {
            "metadata": {},
            "cell_type": "code",
            "source": "lat = 23.02579\nlng = 72.58727\nmap_ahmedabad = folium.Map(location=[lat, lng], zoom_start=17)\nadd_markers(df)\nfolium.CircleMarker(\n    [lat, lng],\n    radius=15,\n    popup=\"New Cafe!\",\n    color='red',\n    fill=True,\n    fill_color='#3186cc',\n    fill_opacity=0.7,\n    parse_html=False).add_to(map_ahmedabad)\nmap_ahmedabad",
            "execution_count": 37,
            "outputs": [
                {
                    "output_type": "execute_result",
                    "execution_count": 37,
                    "data": {
                        "text/plain": "<folium.folium.Map at 0x7fef7fa15470>",
                        "text/html": "<div style=\"width:100%;\"><div style=\"position:relative;width:100%;height:0;padding-bottom:60%;\"><iframe src=\"about:blank\" style=\"position:absolute;width:100%;height:100%;left:0;top:0;border:none !important;\" data-html=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 onload=\"this.contentDocument.open();this.contentDocument.write(atob(this.getAttribute('data-html')));this.contentDocument.close();\" allowfullscreen webkitallowfullscreen mozallowfullscreen></iframe></div></div>"
                    },
                    "metadata": {}
                }
            ]
        },
        {
            "metadata": {},
            "cell_type": "code",
            "source": "",
            "execution_count": null,
            "outputs": []
        }
    ],
    "metadata": {
        "kernelspec": {
            "name": "python3",
            "display_name": "Python 3.6",
            "language": "python"
        },
        "language_info": {
            "name": "python",
            "version": "3.6.9",
            "mimetype": "text/x-python",
            "codemirror_mode": {
                "name": "ipython",
                "version": 3
            },
            "pygments_lexer": "ipython3",
            "nbconvert_exporter": "python",
            "file_extension": ".py"
        }
    },
    "nbformat": 4,
    "nbformat_minor": 1
}